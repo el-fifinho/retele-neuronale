{
 "cells": [
  {
   "cell_type": "markdown",
   "metadata": {},
   "source": [
    "**1. Parsing the System of Equations**"
   ]
  },
  {
   "cell_type": "code",
   "execution_count": 50,
   "metadata": {},
   "outputs": [
    {
     "name": "stdout",
     "output_type": "stream",
     "text": [
      "A=[[2.0, 3.0, -1.0], [1.0, -1.0, 4.0], [3.0, 1.0, 2.0]] B=[5.0, 6.0, 7.0]\n"
     ]
    }
   ],
   "source": [
    "import pathlib\n",
    "\n",
    "def load_system(path: pathlib.Path) -> tuple[list[list[float]], list[float]]:\n",
    "    fd = path.open()\n",
    "    A = []\n",
    "    B = []\n",
    "    for line in fd:\n",
    "        x,op1,y,op2,z,_,b = line.split()\n",
    "        B.append(float(b))\n",
    "        \n",
    "        x1 = x.rstrip('x')\n",
    "        y = op1+y\n",
    "        y1 = y.rstrip('y')\n",
    "        z = op2+z\n",
    "        z1 = z.rstrip('z')\n",
    "        \n",
    "        match x1:\n",
    "            case '':\n",
    "                x = 1.0\n",
    "            case '-':\n",
    "                x = -1.0\n",
    "            case _:\n",
    "                x = float(x1)\n",
    "        match y1:\n",
    "            case '+':\n",
    "                y = 1.0\n",
    "            case '-':\n",
    "                y = -1.0\n",
    "            case _:\n",
    "                y = float(y1)\n",
    "        match z1:\n",
    "            case '+':\n",
    "                z = 1.0\n",
    "            case '-':\n",
    "                z = -1.0\n",
    "            case _:\n",
    "                z = float(z1)\n",
    "        A.append([x,y,z])\n",
    "                \n",
    "    return A,B\n",
    "    \n",
    "    \n",
    "\n",
    "load_system(pathlib.Path(\"system.txt\"))\n",
    "A, B = load_system(pathlib.Path(\"system.txt\"))\n",
    "print(f\"{A=} {B=}\")"
   ]
  },
  {
   "cell_type": "markdown",
   "metadata": {},
   "source": [
    "**2 Matrix and Vector Operations**"
   ]
  },
  {
   "cell_type": "markdown",
   "metadata": {},
   "source": [
    "*1. Determinant:*"
   ]
  },
  {
   "cell_type": "code",
   "execution_count": 65,
   "metadata": {},
   "outputs": [
    {
     "name": "stdout",
     "output_type": "stream",
     "text": [
      "determinant(A)=13.999999999999986\n"
     ]
    }
   ],
   "source": [
    "def determinant(matrix: list[list[float]]) -> float:\n",
    "    return matrix[0][0] * (matrix[1][1] * matrix[2][2] - matrix[1][2] * matrix[2][1]) - matrix[0][1] * (matrix[1][0] * matrix[2][2] - matrix[1][2] * matrix[2][0]) + matrix[0][2] * (matrix[1][0] * matrix[2][1] - matrix[1][1] * matrix [2][0])\n",
    "\n",
    "print(f\"{determinant(A)=}\")"
   ]
  },
  {
   "cell_type": "markdown",
   "metadata": {},
   "source": [
    "*2. Trace:*"
   ]
  },
  {
   "cell_type": "code",
   "execution_count": 4,
   "metadata": {},
   "outputs": [
    {
     "name": "stdout",
     "output_type": "stream",
     "text": [
      "trace(A)=3.0\n"
     ]
    }
   ],
   "source": [
    "def trace(matrix: list[list[float]]) -> float:\n",
    "    return matrix[0][0] + matrix[1][1] + matrix[2][2]\n",
    "\n",
    "print(f\"{trace(A)=}\")"
   ]
  },
  {
   "cell_type": "markdown",
   "metadata": {},
   "source": [
    "*3. Vector norm:*"
   ]
  },
  {
   "cell_type": "code",
   "execution_count": 5,
   "metadata": {},
   "outputs": [
    {
     "name": "stdout",
     "output_type": "stream",
     "text": [
      "norm(B)=10.488088481701515\n"
     ]
    }
   ],
   "source": [
    "import math\n",
    "def norm(vector: list[float]) -> float:\n",
    "    return math.sqrt(vector[0] ** 2 + vector[1] ** 2 + vector[2] ** 2)\n",
    "\n",
    "print(f\"{norm(B)=}\")"
   ]
  },
  {
   "cell_type": "markdown",
   "metadata": {},
   "source": [
    "*4. Transpose of matrix:*"
   ]
  },
  {
   "cell_type": "code",
   "execution_count": 6,
   "metadata": {},
   "outputs": [
    {
     "name": "stdout",
     "output_type": "stream",
     "text": [
      "transpose(A)=[[2.0, 1.0, 3.0], [3.0, -1.0, 1.0], [-1.0, 4.0, 2.0]]\n"
     ]
    }
   ],
   "source": [
    "def transpose(matrix):\n",
    "\n",
    "    transposed_matrix = [[0] * 3 for _ in range(3)]\n",
    "    \n",
    "    for i in range(3):\n",
    "        for j in range(3):\n",
    "            transposed_matrix[j][i] = matrix[i][j]\n",
    "    return transposed_matrix\n",
    "\n",
    "\n",
    "print(f\"{transpose(A)=}\")"
   ]
  },
  {
   "cell_type": "markdown",
   "metadata": {},
   "source": [
    "*5. Matrix-vector multiplication:*"
   ]
  },
  {
   "cell_type": "code",
   "execution_count": 7,
   "metadata": {},
   "outputs": [
    {
     "name": "stdout",
     "output_type": "stream",
     "text": [
      "multiply(A, B)=[21.0, 27.0, 35.0]\n"
     ]
    }
   ],
   "source": [
    "def multiply(matrix: list[list[float]], vector: list[float]) -> list[float]:\n",
    "    result = [0, 0, 0]\n",
    "    \n",
    "    for line in range(0, 3):\n",
    "        for col in range(0, 3):\n",
    "            result[line] += matrix[line][col] * vector[col] \n",
    "    return result\n",
    "\n",
    "print(f\"{multiply(A, B)=}\")"
   ]
  },
  {
   "cell_type": "markdown",
   "metadata": {},
   "source": [
    "**3 Solving using Cramer’s Rule**"
   ]
  },
  {
   "cell_type": "code",
   "execution_count": 8,
   "metadata": {},
   "outputs": [
    {
     "name": "stdout",
     "output_type": "stream",
     "text": [
      "solve_cramer(A, B)=[0.35714285714285715, 2.0714285714285716, 1.9285714285714286]\n"
     ]
    }
   ],
   "source": [
    "def solve_cramer(matrix: list[list[float]], vector: list[float]) -> list[float]:\n",
    "    Ax = [ [B[i]] + row[1:] for i,row in enumerate(matrix) ]\n",
    "    Ay = [ [row[0]] + [B[i]] + [row[2]] for i,row in enumerate(matrix) ]\n",
    "    Az = [ row[:2] + [B[i]] for i,row in enumerate(matrix) ]\n",
    "    return [determinant(Ax)/determinant(A),determinant(Ay)/determinant(A),determinant(Az)/determinant(A)]\n",
    "          \n",
    "\n",
    "print(f\"{solve_cramer(A, B)=}\")"
   ]
  },
  {
   "cell_type": "markdown",
   "metadata": {},
   "source": [
    "**4. Solving using Inversion**"
   ]
  },
  {
   "cell_type": "code",
   "execution_count": 67,
   "metadata": {},
   "outputs": [
    {
     "name": "stdout",
     "output_type": "stream",
     "text": [
      "solve(A, B)=[0.35714285714285987, 2.0714285714285734, 1.928571428571429]\n"
     ]
    }
   ],
   "source": [
    "def determinant_minor(matrix: list[list[float]]) -> float:\n",
    "    return matrix[0][0] * matrix[1][1] - matrix[0][1] * matrix[1][0]\n",
    "\n",
    "def minor(matrix: list[list[float]], i: int, j: int) -> list[list[float]]:\n",
    "    mminor = []\n",
    "    for index,line in enumerate(matrix):\n",
    "        if index == i:\n",
    "            continue\n",
    "        else:\n",
    "            newline = []\n",
    "            for column,value in enumerate(line):   \n",
    "                if column != j:\n",
    "                    newline.append(value)\n",
    "            mminor.append(newline)\n",
    "    return mminor\n",
    "\n",
    "def cofactor(matrix: list[list[float]]) -> list[list[float]]:\n",
    "    cofactor_matrix = []\n",
    "    for i in range(len(matrix)):\n",
    "        newline = []\n",
    "        for j in range(len(matrix)):\n",
    "            newline.append(((-1) **(i+j)) * determinant_minor(minor(matrix,i,j)))\n",
    "        cofactor_matrix.append(newline)    \n",
    "    return cofactor_matrix\n",
    "\n",
    "\n",
    "def adjoint(matrix: list[list[float]]) -> list[list[float]]:\n",
    "    return transpose(cofactor(matrix))\n",
    "\n",
    "def inversion(matrix: list[list[float]]) -> list[list[float]]:\n",
    "    adj_matrix = adjoint(matrix)\n",
    "    x = 1 / determinant(matrix)\n",
    "    inv_matrix = [[0, 0, 0], [0, 0, 0], [0, 0, 0]]\n",
    "    for i,line in enumerate(matrix):\n",
    "        for j in range(len(line)):\n",
    "            inv_matrix[i][j] = x * adj_matrix[i][j]\n",
    "    return inv_matrix\n",
    "\n",
    "def solve(matrix: list[list[float]], vector: list[float]) -> list[float]:\n",
    "    return multiply(inversion(matrix),vector)\n",
    "\n",
    "print(f\"{solve(A, B)=}\")\n"
   ]
  }
 ],
 "metadata": {
  "kernelspec": {
   "display_name": "Python 3",
   "language": "python",
   "name": "python3"
  },
  "language_info": {
   "codemirror_mode": {
    "name": "ipython",
    "version": 3
   },
   "file_extension": ".py",
   "mimetype": "text/x-python",
   "name": "python",
   "nbconvert_exporter": "python",
   "pygments_lexer": "ipython3",
   "version": "3.12.7"
  }
 },
 "nbformat": 4,
 "nbformat_minor": 2
}
